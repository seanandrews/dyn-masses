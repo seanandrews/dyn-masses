{
 "cells": [
  {
   "cell_type": "markdown",
   "metadata": {},
   "source": [
    "# Manipulating (Sub)Millimeter Wavelength Spectral Line Datasets"
   ]
  },
  {
   "cell_type": "markdown",
   "metadata": {},
   "source": [
    "As we start on the next phase, the first step is to gain some familiarity with the kinds of data we're working with.  The basic data product is a position-position-velocity \"cube\", a map of emission from a spectral line as a function of the 2D position on the sky at a sequence of velocities (or frequencies).  \n",
    "\n",
    "First, an aside on where the emission comes from.  The emission mechanism here is analogous to the standard quantum mechanics example for a hydrogen atom.  We will primarily consider simple diatomic molecules like carbon monoxide (CO).  The rotational energy states of such a molecule's center of mass are quantized: transitions between discrete energy states (from higher to lower) result in the emission of photons.  For CO, the photon energies from these \"pure rotational transitions\" correspond to integer multiples of the ground-state energy: for example, emission from the $J$=1$-$0 transition has a rest frequency of 115.258 GHz, $J$=2$-$1 at 230.538 GHz, $J$=3$-$2 at 345.796 GHz, etc.  These correspond to wavelengths ($\\lambda = c / \\nu$) of 2.6, 1.3, 0.87 mm, respectively.  \n",
    "\n",
    "The best way to learn is to start with a data cube.  Let's download one from one of my previous projects.  These are observations of the CO $J$=2$-$1 emission line from a nearby disk:"
   ]
  },
  {
   "cell_type": "code",
   "execution_count": 3,
   "metadata": {},
   "outputs": [
    {
     "data": {
      "text/plain": [
       "('HD163296_CO.fits', <http.client.HTTPMessage at 0x11e4cce10>)"
      ]
     },
     "execution_count": 3,
     "metadata": {},
     "output_type": "execute_result"
    }
   ],
   "source": [
    "import os, sys\n",
    "import numpy as np\n",
    "import urllib.request\n",
    "import matplotlib.pyplot as plt\n",
    "from astropy.io import fits\n",
    "%matplotlib inline\n",
    "\n",
    "# filename of interest\n",
    "file = 'HD163296_CO.fits'\n",
    "\n",
    "# download site\n",
    "site = 'https://bulk.cv.nrao.edu/almadata/lp/DSHARP/images/'\n",
    "\n",
    "# grab file (1.6 GB)\n",
    "urllib.request.urlretrieve(site+file, file)"
   ]
  },
  {
   "cell_type": "markdown",
   "metadata": {},
   "source": [
    "A '.fits' file is a common image format used in astronomy.  The astropy package has some easy-to-use functionality for accessing its contents:"
   ]
  },
  {
   "cell_type": "code",
   "execution_count": 4,
   "metadata": {},
   "outputs": [
    {
     "name": "stdout",
     "output_type": "stream",
     "text": [
      "(105, 2000, 2000)\n"
     ]
    }
   ],
   "source": [
    "# load the cube and \"header\" information\n",
    "data = fits.open(file)\n",
    "cube = np.squeeze(data[0].data)\n",
    "hdr = data[0].header\n",
    "\n",
    "# cube shape\n",
    "print(cube.shape)"
   ]
  },
  {
   "cell_type": "markdown",
   "metadata": {},
   "source": [
    "The cube is a 3-D array.  The first dimension is velocity, where the emission distribution is broken down into 105 distinct velocities, known as \"channels\" (for the same reason your TV or radio has channels, actually).  The other two dimensions are spatial \"pixel\" coordinates, one being the \"right ascension\" (RA) -- equivalent to longitude on the \"celestial sphere\" (the projection of the sky up from the Earth) -- and \"declination\" (DEC) -- equivalent to latitude.  The same spatial coordinates are present for each velocity channel.  We can convert between pixel and channel indices and actual physical coordinate values using information in the .fits header (which is a python dictionary):  "
   ]
  },
  {
   "cell_type": "code",
   "execution_count": null,
   "metadata": {},
   "outputs": [],
   "source": [
    "# SPATIAL\n",
    "# number of pixels in each dimensions\n",
    "nRA, nDEC = hdr['NAXIS1'], hdr['NAXIS2']\n",
    "\n",
    "# convert pixel indices to RA, DEC (each in units of degrees on the sky)\n",
    "RA = hdr['CRVAL1'] + hdr['CDELT1'] * (np.arange(nRA) - (hdr['CRPIX1'] - 1))\n",
    "DEC = hdr['CRVAL2'] + hdr['CDELT2'] * (np.arange(nDEC) - (hdr['CRPIX2'] - 1))\n",
    "\n",
    "# convert these to offsets from the image center, in **arcseconds** units (1 degree = 3600 arcseconds)\n",
    "RAo, DECo = 3600 * (RA - hdr['CRVAL1']), 3600 * (DEC - hdr['CRVAL2'])\n",
    "\n",
    "# in some cases, the emission center (= location of star, which we don't see in these data) is offset from the \n",
    "# image center; we can correct for that to have a coordinate frame on the sky, centered on the star position\n",
    "# (note: these shifts are quite small in this case, but for clarity, here's how you do it)\n",
    "offRA, offDEC = -0.02, 0.00    # the offsets (measured elsewhere)\n",
    "dRAo, dDECo = RAo - offRA, DECo - offDEC\n",
    "\n",
    "# now create a 2-D grid of RA and DEC offsets (relative to emission center) for each pixel in the cube\n",
    "dRA, dDEC = np.meshgrid(dRAo, dDECo)\n",
    "\n",
    "# SPECTRAL\n",
    "# number of channels\n",
    "nchan = hdr['NAXIS3']\n",
    "\n",
    "# convert channel indices to frequencies (in units of Hz)\n",
    "freq = hdr['CRVAL3'] + hdr['CDELT3'] * (np.arange(nchan) - (hdr['CRPIX3'] - 1))\n",
    "\n",
    "# use the Doppler formula to calculate the corresponding velocities (in units of km/s)\n",
    "c_ = 2.99792e5       # speed of light in km/s\n",
    "freq0 = 230.538e9    # rest frequency of CO J=2-1 line in Hz\n",
    "vel = c_ * (1. - freq / freq0)"
   ]
  },
  {
   "cell_type": "markdown",
   "metadata": {},
   "source": [
    "Ok, so now we can plot an image from the cube with the proper coordinates.  We call this spectral slice of the cube a \"channel map\", the spatial distribution of the emission from a given velocity:"
   ]
  },
  {
   "cell_type": "code",
   "execution_count": null,
   "metadata": {},
   "outputs": [],
   "source": [
    "import cmasher as cmr          # color maps\n",
    "from astropy.visualization import (AsinhStretch, LogStretch, ImageNormalize)    # image visualization functions\n",
    "\n",
    "# channel index to plot\n",
    "ch_idx = 50\n",
    "\n",
    "# define the full image boundaries with a list of the min/max RA and DEC offsets\n",
    "# (note the reverse ordering for RA, since this is plotted with E to the left)\n",
    "im_bounds = (dRA.max(), dRA.min(), dDEC.min(), dDEC.max())\n",
    "\n",
    "# now set the RA and DEC offset ranges you want to show\n",
    "dRA_lims  = [6, -6]      # (same reverse ordering to ensure E is to the left)\n",
    "dDEC_lims = [-6, 6]\n",
    "\n",
    "# now define the color-map, intensity limits, and stretch\n",
    "cmap = cmr.freeze\n",
    "vmin, vmax = -1, 50   # these are in mJy/beam units\n",
    "norm = ImageNormalize(vmin=vmin, vmax=vmax, stretch=AsinhStretch())\n",
    "\n",
    "# set up and plot the image on the specified scale\n",
    "fig, ax = plt.subplots()\n",
    "im = ax.imshow(1e3*cube[ch_idx,:,:], origin='lower', cmap=cmap, extent=im_bounds, norm=norm, aspect='equal')\n",
    "ax.set_xlim(dRA_lims)\n",
    "ax.set_ylim(dDEC_lims)\n",
    "ax.set_xlabel('RA offset [arcsec]')\n",
    "ax.set_ylabel('DEC offset [arcsec]')\n",
    "\n",
    "# add a scalebar\n",
    "cb = plt.colorbar(im, ax=ax, pad=0.05)\n",
    "cb.set_label('surface brightness [mJy / beam]', rotation=270, labelpad=13)\n",
    "\n",
    "# annotate with the velocity\n",
    "vel_str = '%.2f km/s' % vel[ch_idx]\n",
    "ax.text(5.5, 5.0, vel_str, color='w')"
   ]
  },
  {
   "cell_type": "code",
   "execution_count": null,
   "metadata": {},
   "outputs": [],
   "source": [
    "# channel index to plot\n",
    "ch_idx = 56\n",
    "\n",
    "# now define the color-map, intensity limits, and stretch\n",
    "vmin, vmax = -1, 50   # these are in mJy/beam units\n",
    "norm = ImageNormalize(vmin=vmin, vmax=vmax, stretch=AsinhStretch())\n",
    "\n",
    "# set up and plot the image on the specified scale\n",
    "fig, ax = plt.subplots()\n",
    "im = ax.imshow(1e3*cube[ch_idx,:,:], origin='lower', cmap=cmap, extent=im_bounds, norm=norm, aspect='equal')\n",
    "ax.set_xlim(dRA_lims)\n",
    "ax.set_ylim(dDEC_lims)\n",
    "ax.set_xticklabels([])\n",
    "ax.set_yticklabels([])\n",
    "fig.savefig('/Users/sandrews/Desktop/kink.png')"
   ]
  },
  {
   "cell_type": "markdown",
   "metadata": {},
   "source": [
    "The surface brightness units here are mJy / beam, or \"milliJansky per beam\".  The native units of .fits files for ALMA data are Jy / beam.  The \"Jansky\" is a common unit in radio astronomy, where 1 Jy = 10$^{-23}$ ergs / s / cm$^2$ / Hz.  The \"per beam\" part is also common, but it's super confusing even to astronomers.  The \"beam\" is a measure of the spatial resolution of the observations: it tells you how light from a point source (i.e., a source with infinitesimally small size) would be smeared out by the instrument.  Sometimes a beam is called a \"point spread function\" for that same reason.  As you'll learn more about later, this \"beam\" is a 2-D elliptical Gaussian distribution, so the \"per beam\" designation is the effective area of that 2-D Gaussian.  If this elliptical beam has a full-width-at-half-maximum (FWHM) major axis of $a$ and a FWHM minor axis of $b$, the beam area being referenced is:\n",
    "\n",
    "$\\Omega_{\\rm beam} = \\frac{\\pi \\, a \\, b}{4 \\, \\ln{2}}$.\n",
    "\n",
    "Normally we can access the values of $a$ and $b$ from the .fits header, but for esoteric reasons this particular file is missing them.  In this case, $a = 0.104$ arcseconds (denoted $^{\\prime\\prime}$) and $b = 0.095^{\\prime\\prime}$.  So the beam area is $\\Omega_{\\rm beam} = 0.011$ arcseconds$^2$.\n",
    "\n",
    "Frequently, radio astronomers instead choose to quote surface brightnesses $I_\\nu$ (as above) in a different format.  Then, we speak of \"brightness temperatures\", $T_b$.  In the most formal sense, $T_b$ is the temperature that matches the surface brightness so that $I_\\nu = B_\\nu(T_b)$, where $B_\\nu$ is the Planck function.  But in common usage, we assume the Rayleigh-Jeans limit applies (technically it doesn't!), so that \n",
    "\n",
    "$I_\\nu = \\frac{2 \\, k_B \\, \\nu^2 \\, T_b}{c^2}$\n",
    "\n",
    "where $\\nu$ is the frequency, $k_B$ is the Boltzmann constant, and $c$ is the speed of light.  The conversion seems straightforward, but the units _often_ thwart people.  The key is to convert $I_\\nu$ into CGS units, noting that the appropriate unit for an area on the sky (i.e., the beam area) is _steradians_, or square radians (rather than square arcseconds).  Its useful to be facile with this brightness convention transformation.  Write a function to do it:"
   ]
  },
  {
   "cell_type": "code",
   "execution_count": null,
   "metadata": {},
   "outputs": [],
   "source": [
    "# your code here"
   ]
  },
  {
   "cell_type": "markdown",
   "metadata": {},
   "source": [
    "Now plot the same channel map as above, but on a $T_b$ scale instead of a mJy / beam scale:"
   ]
  },
  {
   "cell_type": "code",
   "execution_count": null,
   "metadata": {},
   "outputs": [],
   "source": [
    "# your code here"
   ]
  },
  {
   "cell_type": "markdown",
   "metadata": {},
   "source": [
    "The full data cube includes a large number of channels in the typical case.  Here, we have 105.  Usually we want to look at all of them together on a grid, since that reveals important information about the disk kinematics.  Make a set of 100 channel maps in a 10x10 grid.  You can plot them all on the same brightness scale, so the scalebar isn't necessary (for now).  This should be coded in a loop, and I'd strongly recommend you use the matplotlib.gridspec functionality."
   ]
  },
  {
   "cell_type": "code",
   "execution_count": null,
   "metadata": {},
   "outputs": [],
   "source": [
    "# your code here"
   ]
  },
  {
   "cell_type": "markdown",
   "metadata": {},
   "source": [
    "Try to digest some of the \"patterns\" you see in these channel maps.  How are the general spatial and kinematic (spectral) variations in the emission related?"
   ]
  },
  {
   "cell_type": "markdown",
   "metadata": {},
   "source": [
    "### Condensed Metrics"
   ]
  },
  {
   "cell_type": "markdown",
   "metadata": {},
   "source": [
    "In many cases, users will _condense_ the 3-D spectral line cube into a variety of other metrics that aid in visualizing and interpreting such data.  There are a lot of ways to do this, but let's run through how the most common ones work.\n",
    "\n",
    "**(1) Spatially-integrated spectrum:** Maybe the most straightforward option is to plot the spatially-integrated spectrum of the cube.  This means simply summing the emission in each channel map, and plot the _flux_ as a function of velocity.  The _flux_ is defined in Jy units, so you need to count up the number of beam areas that you include in the sum for any individual channel (where recall the units are Jy/beam).  The key issue to consider then is what _aperture_ you'll integrate over in each channel....i.e., which pixels you'll include in the sum.  A simple approach is to just choose some rectangle that encapsulates all the emission in all the channels.  A slightly more sophisticated approach would be to define a _clip_, or threshold, where you only sum pixels brighter than some value (usually chosen to be ~2-3x the RMS noise level, which you could estimate in emission-free regions of the cube)."
   ]
  },
  {
   "cell_type": "code",
   "execution_count": null,
   "metadata": {},
   "outputs": [],
   "source": [
    "# your code here"
   ]
  },
  {
   "cell_type": "markdown",
   "metadata": {},
   "source": [
    "**(2) Moment maps:** The most common things we find in the literature are called moment maps.  They're defined in a familiar way for many with a physics / mathematics background.\n",
    "\n",
    "A moment$-0$ map, $M_0$, is the velocity-integrated intensity of the cube, with units of Jy km/s / beam,\n",
    "\n",
    "$M_0 = \\delta V \\, \\sum_i I_i$,\n",
    "\n",
    "where $i$ indexes the channels, and $\\Delta V$ is the channel-spacing in velocity units.\n",
    "\n",
    "A moment$-1$ map, $M_1$, shows the intensity-weighted velocities in the cube, with units of km/s,\n",
    "\n",
    "$M_1 = \\frac{1}{M_0} \\sum_i I_i \\, V_i$,\n",
    "\n",
    "where $V_i$ is the velocity of each channel.  Usually moment$-1$ maps are shown on a diverging color scale (often with an appropriate red/blue pattern corresponding to redshifted and blueshifted sides of the disk).  This is sort of like a map of the (projected) disk rotation, in our particular case.\n",
    "\n",
    "A moment$-2$ map, $M_2$, is the intensity-weighted velocity dispersion in the cube, with units of km/s,\n",
    "\n",
    "$M_2 = \\sqrt{\\frac{\\sum_i I_i \\, (V_i - M_1)^2}{M_0}}$,\n",
    "\n",
    "and is usually treated as a metric for the spatial distribution of the spectral line-widths.\n",
    "\n",
    "In all of these cases, the question of which pixels to include (or exclude) again becomes important.  Experiment with clips to see how they work in these cases."
   ]
  },
  {
   "cell_type": "code",
   "execution_count": null,
   "metadata": {},
   "outputs": [],
   "source": [
    "# your code here"
   ]
  },
  {
   "cell_type": "markdown",
   "metadata": {},
   "source": [
    "**(3) Peak brightness map:** One related metric is the peak brightness (sometimes called moment$-8$) map, which shows the spatial distribution of the spectral peak (maximum) in each pixel, usually in brightness temperature (K) units.  "
   ]
  },
  {
   "cell_type": "code",
   "execution_count": null,
   "metadata": {},
   "outputs": [],
   "source": [
    "# your code here"
   ]
  },
  {
   "cell_type": "markdown",
   "metadata": {},
   "source": [
    "When you've played around with these moment maps, you should install and experiment with the [${\\tt bettermoments}$ code](https://github.com/richteague/bettermoments) from postdoctoral fellow Dr. Rich Teague (our collaborator).  Compare the moment maps generated from this code with your own.  "
   ]
  },
  {
   "cell_type": "code",
   "execution_count": null,
   "metadata": {},
   "outputs": [],
   "source": [
    "# your code here"
   ]
  },
  {
   "cell_type": "markdown",
   "metadata": {},
   "source": [
    "**(4) Position-Velocity diagram:** This one is a little trickier to code, but it is probably most closely connected to getting a rough estimate of the stellar mass.  Take a look at the moment$-0$ maps you've made.  You want to isolate a \"cut\" (a line with some thickness) along the major (long) axis of the integrated emission that intersects with the disk center.  For each pixel in that cut, you have a projected distance from the center (in arcseconds) and a spectrum (the brightness as a function of velocity).  You want to make a plot of that spectrum at each \"position\" (distance).  Take a look at Figure 8 in [this paper](https://iopscience.iop.org/article/10.3847/2041-8213/aaf747/pdf) (these are the same data you're using now) for an example.  The edges of those position-velocity curves are related to the (projected) Keplerian velocities of the gas (blue lines in that figure).  You can make this with a few pieces of information:\n",
    "\n",
    "- The distance in arcseconds can be converted to a projected distance in astronomical units (AU = earth-sun distance, or 1.496e13 cm) by multiplying by the distance in parsecs (pc = 3.09e18 cm).  \n",
    "\n",
    "- The Keplerian velocity field of a disk is $V_{\\rm Kep} = \\sqrt{\\frac{G \\, M_\\ast}{r^3}}$, where $G$ is Newton's constant (6.67e-8), $M_\\ast$ is the stellar mass in grams, and $r$ is the distance in cm (so $V$ will be in cm/s units).\n",
    "\n",
    "- The projected velocity field is $V_{\\rm Kep} \\sin{i}$, where $i$ is the inclination (tilt) of the disk relative to the sky plane.  For the HD 163296 disk, $i = 47$ degrees.\n",
    "\n",
    "Those blue curves are just plots of $V_{\\rm Kep} \\sin{i}$: estimate an appropriate $M_\\ast$ for this case using your position-velocity diagram (note that solar mass units are $M_\\odot = 1.989e33$ g).  "
   ]
  },
  {
   "cell_type": "code",
   "execution_count": null,
   "metadata": {},
   "outputs": [],
   "source": [
    "# your code here"
   ]
  },
  {
   "cell_type": "code",
   "execution_count": 5,
   "metadata": {},
   "outputs": [],
   "source": [
    "from gofish import imagecube"
   ]
  },
  {
   "cell_type": "code",
   "execution_count": 6,
   "metadata": {},
   "outputs": [],
   "source": [
    "from gofish import imagecube\n",
    "cube = imagecube(file, FOV=10.0)"
   ]
  },
  {
   "cell_type": "code",
   "execution_count": 17,
   "metadata": {},
   "outputs": [
    {
     "name": "stdout",
     "output_type": "stream",
     "text": [
      "247.96187210083008\n"
     ]
    }
   ],
   "source": [
    "import time\n",
    "t0 = time.time()\n",
    "x, y, dy = cube.average_spectrum(r_min=0, r_max=2.0, inc=46.7,\n",
    "                                 PA=133.3, mstar=2.05, dist=101.)\n",
    "t1 = time.time()\n",
    "print(t1 - t0)"
   ]
  },
  {
   "cell_type": "code",
   "execution_count": 18,
   "metadata": {},
   "outputs": [
    {
     "data": {
      "text/plain": [
       "Text(0, 0.5, 'Flux Density (Jy/beam)')"
      ]
     },
     "execution_count": 18,
     "metadata": {},
     "output_type": "execute_result"
    },
    {
     "data": {
      "image/png": "[encoded data removed]",
      "text/plain": [
       "<Figure size 432x288 with 1 Axes>"
      ]
     },
     "metadata": {
      "needs_background": "light"
     },
     "output_type": "display_data"
    }
   ],
   "source": [
    "fig, ax = plt.subplots()\n",
    "ax.step(x, y, where='mid', color='k', lw=1.0)\n",
    "ax.set_xlabel('Velocity (m/s)')\n",
    "ax.set_ylabel('Flux Density (Jy/beam)')"
   ]
  },
  {
   "cell_type": "code",
   "execution_count": 21,
   "metadata": {},
   "outputs": [
    {
     "name": "stdout",
     "output_type": "stream",
     "text": [
      "77.49453115463257\n"
     ]
    },
    {
     "data": {
      "image/png": "[encoded data removed]",
      "text/plain": [
       "<Figure size 432x288 with 1 Axes>"
      ]
     },
     "metadata": {
      "needs_background": "light"
     },
     "output_type": "display_data"
    }
   ],
   "source": [
    "t0 = time.time()\n",
    "fig, ax = plt.subplots()\n",
    "x, y, dy = cube.integrated_spectrum(r_min=0.1, r_max=2.0, inc=46.7, PA=133.3,\n",
    "                                    mstar=2.05, dist=101., dr=0.1, resample=50.0)\n",
    "#ax.errorbar(x, y, dy, fmt=' ', capsize=1.25, capthick=1.25, color='k', lw=1.0)\n",
    "ax.step(x, y, where='mid', color='k', lw=1.0)\n",
    "ax.set_xlabel('Velocity (m/s)')\n",
    "ax.set_ylabel('Integrated Flux (Jy)')\n",
    "t1 = time.time()\n",
    "print(t1 - t0)"
   ]
  },
  {
   "cell_type": "code",
   "execution_count": 23,
   "metadata": {},
   "outputs": [
    {
     "name": "stdout",
     "output_type": "stream",
     "text": [
      "290.18131589889526\n"
     ]
    },
    {
     "data": {
      "image/png": "[encoded data removed]",
      "text/plain": [
       "<Figure size 432x288 with 1 Axes>"
      ]
     },
     "metadata": {
      "needs_background": "light"
     },
     "output_type": "display_data"
    }
   ],
   "source": [
    "t0 = time.time()\n",
    "# Calculate the peak flux density as a function of radius.\n",
    "x, y, dy = cube.radial_profile(inc=46.7, PA=133.3, mstar=2.05, dist=101., unit='Jy/beam')\n",
    "\n",
    "# Plot\n",
    "fig, ax = plt.subplots()\n",
    "ax.step(x, y, where='mid', color='k', lw=1.0)\n",
    "ax.set_xlabel('Radius (arcsec)')\n",
    "ax.set_ylabel('Peak Flux Density (Jy/beam)')\n",
    "t1 = time.time()\n",
    "print(t1-t0)"
   ]
  },
  {
   "cell_type": "code",
   "execution_count": null,
   "metadata": {},
   "outputs": [],
   "source": []
  }
 ],
 "metadata": {
  "kernelspec": {
   "display_name": "Python 3",
   "language": "python",
   "name": "python3"
  },
  "language_info": {
   "codemirror_mode": {
    "name": "ipython",
    "version": 3
   },
   "file_extension": ".py",
   "mimetype": "text/x-python",
   "name": "python",
   "nbconvert_exporter": "python",
   "pygments_lexer": "ipython3",
   "version": "3.7.1"
  }
 },
 "nbformat": 4,
 "nbformat_minor": 2
}
