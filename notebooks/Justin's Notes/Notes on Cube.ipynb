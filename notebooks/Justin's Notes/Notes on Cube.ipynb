{
 "cells": [
  {
   "cell_type": "markdown",
   "metadata": {},
   "source": [
    "# Notes on Cube\n",
    "\n",
    "## ALMA\n",
    "Atacama Large Millimeter/Submillimeter Array\n",
    "Array of telescopes in the Atacama Desert - Chile\n",
    "\n",
    "### Observation\n",
    "We are able to detect photon energies from molecular compounds of astronomical objects\n",
    "\n",
    "Detect photon energy –> determine what compound it is –> convert energy to frequency/wavelength/velocity\n",
    "\n",
    "\n",
    "### Data\n",
    "Data from ALMA is converted to a FITS file (Flexible Image Transport System)\n",
    "\n",
    "#### FITS\n",
    "* FITS file broken into segments called HDUs (Header/Data Units)\n",
    "    * First HDU is called Primary HDU, or Primary Array\n",
    "* The __data__ of a FITS file is stored in Primary HDU:\n",
    "   * usually either 1D spectrum, 2D array (image), or 3D cube\n",
    "\n",
    "\n",
    "* **Data cubes** has three parameters- 1 for velocity, and 2 for spatial position\n",
    "    * **Velocity**\n",
    "        * Emission distribution is broken down into 105 distinct velocities (channels)\n",
    "        * Given in units of mJy/beam\n",
    "            * Jansky: unit of spectral flux density\n",
    "                * 1 Jy = $10^{-26}$ $\\rm{W/m^2/Hz}$\n",
    "                * Spectral flux density: \n",
    "                \n",
    "                $$S_v = I_\\nu\\ \\Omega = \\iint\\limits_{source}B(\\theta, \\phi)\\  d\\Omega $$ \n",
    "                \n",
    "                where $B/I_\\nu$ is the spectral radiance, and $d\\Omega$ is over the solid angle\n",
    "            * Beam:\n",
    "            > The \"beam\" is a measure of the spatial resolution of the observations: it tells you how light from a point source (i.e., a source with infinitesimally small size) would be smeared out by the instrument.\n",
    "            \n",
    "            > If this elliptical beam has a full-width-at-half-maximum (FWHM) major axis of $a$ and a FWHM minor axis of $b$, the beam area being referenced is: $\\Omega_{\\rm beam} = \\frac{\\pi \\, a \\, b}{4 \\, \\ln{2}}$.\n",
    "            * Spectral radiance is related to brightness temperature by the following relation: $I_\\nu = B_\\nu(T_b)$\n",
    "                * In the low frequency, high temperature regime, when $h\\nu \\ll kT_b$, we can use the Rayleigh-Jeans law, giving the approximation: \n",
    "                \n",
    "                $$I_{\\nu }={\\frac {2\\nu ^{2}kT_b}{c^{2}}}$$\n",
    "            \n",
    "    * **Spatial Position**\n",
    "        * Given in pixel coordinates that must be converted to **celestial sphere** coordinates\n",
    "        * __celestial sphere:__ night sky from the vantage point of the Earth, concentric to the Earth\n",
    "            * __DEC (declination):__ latitude, in arcseconds\n",
    "                * 1 radian $\\sim$ 206265 arcseconds\n",
    "            * __RA (right ascension):__ longitude, in arcseconds\n",
    "\n",
    "Cubes are visualized in slices of velocity, called a **channel map**\n",
    "\n",
    "\n",
    "#### 8/14 Notes\n",
    "Planetary disk is similar to an MRI scan, except the third dimension is not spatial, it is velocity\n",
    "\n",
    "The combination of channel maps at different velocities shows the whole picture of the emission of the disk in 2D\n",
    "\n",
    "Seeing disk at an angle- if we saw disk from straight on, we would not be able to see it- it would look like constant velocity\n",
    "\n",
    "\n",
    "\n",
    "\n"
   ]
  },
  {
   "cell_type": "markdown",
   "metadata": {},
   "source": [
    "## Project Timeline\n",
    "---\n",
    "* **Week 6:** Learning about cube data for protoplanetary disks\n",
    "    * Goal: Write code that converts surface brightness to brightness temperature\n",
    "        * Completed: (8/14) Wrote brighttemp.py, converted plot from surface brightness to brightness temperature\n",
    "    * Goal: Make 10x10 channel maps for different velocities of HD163296 disk\n",
    "        * Completed: (8/11) Channel maps\n",
    "    "
   ]
  },
  {
   "cell_type": "code",
   "execution_count": null,
   "metadata": {},
   "outputs": [],
   "source": []
  }
 ],
 "metadata": {
  "kernelspec": {
   "display_name": "Python 3",
   "language": "python",
   "name": "python3"
  },
  "language_info": {
   "codemirror_mode": {
    "name": "ipython",
    "version": 3
   },
   "file_extension": ".py",
   "mimetype": "text/x-python",
   "name": "python",
   "nbconvert_exporter": "python",
   "pygments_lexer": "ipython3",
   "version": "3.6.8"
  }
 },
 "nbformat": 4,
 "nbformat_minor": 2
}
