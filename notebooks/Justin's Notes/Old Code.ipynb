{
 "cells": [
  {
   "cell_type": "markdown",
   "metadata": {},
   "source": [
    "### OLD\n",
    "Now, let's doublecheck that those numbers make sense.  Make a plot of the HRD around the desired ($T_{\\rm eff}$, $L_\\ast$\\) point, and plot the mass tracks and isochrones that neighbor the derived values:"
   ]
  },
  {
   "cell_type": "code",
   "execution_count": null,
   "metadata": {},
   "outputs": [],
   "source": [
    "#mass tracks\n",
    "Tlim = [5000, 4000]    # note: Teff is plotted backwards (see note below)\n",
    "Llim = [0.5, 2]\n",
    "fig, ax = plt.subplots()\n",
    "ax.plot(4376, 1.5, marker='o', markersize=10, color=\"red\")\n",
    "ax.set_xlim(Tlim)\n",
    "ax.set_ylim(Llim)\n",
    "ax.set_xlabel(r'$\\log{T_{\\rm eff}} \\,\\, [{\\rm K}]$')\n",
    "ax.set_ylabel(r'$\\log{L_\\ast} \\,\\, [{\\rm L}_\\odot]$')\n",
    "\n",
    "track_num = [80, 90, 100, 110, 120]\n",
    "\n",
    "for i in track_num: #mass tracks near 0.93 Msun\n",
    "    file_track_mass = working_dir+'MIST/'+filename_eep+'/%sM.track.eep'% (\"{:05d}\".format(i))\n",
    "    track_mass = ascii.read(file_track_mass)\n",
    "    age, logL, logTe = track_mass['col1'], track_mass['col7'], track_mass['col12']\n",
    "    ax.plot(10**logTe[age < 1e8], 10**logL[age < 1e8], label = 'MT %s M$\\odot$' % (i/100))\n",
    "    ax.set_xlim(Tlim)\n",
    "    ax.set_ylim(Llim)\n",
    "    ax.set_xlabel(r'${T_{\\rm eff}} \\,\\, [{\\rm K}]$')\n",
    "    ax.set_ylabel(r'${L_\\ast} \\,\\, [{\\rm L}_\\odot]$')\n",
    "\n",
    "#isochrone\n",
    "log_age = [np.log10(1000000), np.log10(2000000)] #1Myr and 2Myr\n",
    "colors = ['C1', 'C2']\n",
    "\n",
    "for i in range(len(log_age)):\n",
    "    close_age = iso_AGE[np.abs(iso_AGE - log_age[i]).argmin()] #np.searchsorted(iso_AGE, i)] gives the idx+1\n",
    "    iso_L_Myr = iso_L[iso_AGE == close_age]\n",
    "    iso_T_Myr = iso_T[iso_AGE == close_age]\n",
    "    ax.plot(10**iso_T_Myr, 10**iso_L_Myr, ':'+colors[i], label= \"Iso %d Myr\" % (round(10**log_age[i])/1e6))\n",
    "    ax.legend()"
   ]
  },
  {
   "cell_type": "markdown",
   "metadata": {},
   "source": [
    "Ok, now we can also look into the weirdness that happens in the previous plot at $T_{\\rm eff} \\gtrsim 4500$ K.  I think this is not some bad interpolation issue, but rather just that this is where the mass tracks start to get complicated (bend over to higher $T_{\\rm eff}$ at nearly fixed $L_\\ast$) in the HRD.  Examine this issue by plotting the relevant part of the HRD and the mass tracks in that part of parameter-space.  (It might help to overlay the fixed $L_\\ast$ slice we're considering as a horizontal line.). What's happening?  Are the mass tracks double-valued in $T_{\\rm eff}$ at this $L_\\ast$?  "
   ]
  },
  {
   "cell_type": "code",
   "execution_count": null,
   "metadata": {},
   "outputs": [],
   "source": [
    "Tlim = [7000, 4000]    # note: Teff is plotted backwards (see note below)\n",
    "Llim = [0.5, 3]\n",
    "fig, ax = plt.subplots()\n",
    "x = np.linspace(4000, 7000, 1000)\n",
    "y = np.linspace(1.5, 1.5, 1000)\n",
    "ax.plot(x, y, ':r', label=r'fixed 1.5 $L_\\ast$')\n",
    "\n",
    "track_num = [100, 104, 108, 112, 116, 120, 124, 128]\n",
    "\n",
    "for i in track_num: #mass tracks near 0.93 Msun\n",
    "    file_track_mass = working_dir+'MIST/'+filename_eep+'/%sM.track.eep'% (\"{:05d}\".format(i))\n",
    "    track_mass = ascii.read(file_track_mass)\n",
    "    age, logL, logTe = track_mass['col1'], track_mass['col7'], track_mass['col12']\n",
    "    ax.plot(10**logTe[age < 1e8], 10**logL[age < 1e8], label = 'MT %s M$\\odot$' % (i/100))\n",
    "    ax.set_xlim(Tlim)\n",
    "    ax.set_ylim(Llim)\n",
    "    ax.set_xlabel(r'${T_{\\rm eff}} \\,\\, [{\\rm K}]$')\n",
    "    ax.set_ylabel(r'${L_\\ast} \\,\\, [{\\rm L}_\\odot]$')\n",
    "    ax.legend()"
   ]
  },
  {
   "cell_type": "markdown",
   "metadata": {},
   "source": [
    "Mass track of 1.2 M$\\odot$ has overlapping value at 1.5 $L_\\ast$"
   ]
  },
  {
   "cell_type": "markdown",
   "metadata": {},
   "source": [
    "### attempt to generate image plots"
   ]
  },
  {
   "cell_type": "code",
   "execution_count": null,
   "metadata": {},
   "outputs": [],
   "source": [
    "# generate spaced values (log scale)\n",
    "tspce = np.linspace(np.log10(4000), np.log10(7000), 1000)\n",
    "lspce = np.linspace(np.log10(0.1), np.log10(100), 1000)\n",
    "\n",
    "# generate grid and coordinates\n",
    "xy, yx = np.meshgrid(tspce, lspce) #grid\n",
    "lumteffgrid = np.column_stack((xy.ravel(), yx.ravel())) \n",
    "#lumteffgrid = np.dstack((xy.T, yx.T)) #coordinates starting from (tspace[0], lspace[0])\n",
    "\n",
    "# the input points in the HRD\n",
    "points = np.column_stack((logTe, logL))\n",
    "\n",
    "# MASS\n",
    "# the values of mass corresponding to those points\n",
    "values = logM\n",
    "\n",
    "mass_est = 10**griddata(points, values, lumteffgrid, method = 'linear')\n",
    "# test = griddata(points, values, (tspce[0], lspce[0]), method = 'linear')\n",
    "# test2 = griddata(points, values, (tspce[-1], lspce[0]), method = 'linear')\n",
    "\n",
    "mass_image = np.reshape(mass_est, (1000, 1000))\n",
    "\n",
    "# mass_image = np.rot90(mass_est)\n",
    "# #if you want to plot high to low teff, then flip mass_image about axis 1\n",
    "# mass_image = np.flip(mass_image, axis=1)"
   ]
  },
  {
   "cell_type": "code",
   "execution_count": null,
   "metadata": {},
   "outputs": [],
   "source": [
    "# Mass Plot\n",
    "fig, ax = plt.subplots()\n",
    "im = ax.imshow(mass_image, origin='lower', aspect='auto', extent=[4000,7000,0.1,100])\n",
    "ax.set_xlabel(r'$T_{\\rm eff} \\,\\, [{\\rm K}]$', labelpad=10)\n",
    "ax.set_ylabel(r'${L_\\ast} \\,\\, [{\\rm L}_\\odot]$', labelpad=10)\n",
    "\n",
    "cb = plt.colorbar(im, ax=ax, pad = 0.05)\n",
    "cb.set_label(r'${M_\\ast} \\,\\, [{\\rm M}_\\odot]$', rotation=270, labelpad=20)\n",
    "\n",
    "track_num = [100, 200, 300, 400, 500]\n",
    "\n",
    "Tlim = [4000, 7000]    # note: Teff is plotted backwards (see note below)\n",
    "Llim = [0.1, 100]\n",
    "\n",
    "for i in track_num: #mass tracks 1-5 solar mass\n",
    "    file_track_mass = working_dir+'MIST/'+filename_eep+'/%sM.track.eep'% (\"{:05d}\".format(i))\n",
    "    track_mass = ascii.read(file_track_mass)\n",
    "    age, logL, logTe = track_mass['col1'], track_mass['col7'], track_mass['col12']\n",
    "    ax.plot(10**logTe[age < 1e8], 10**logL[age < 1e8], label = 'MT %s M$\\odot$' % (i/100))\n",
    "    ax.set_xlim(Tlim)\n",
    "    ax.set_ylim(Llim)\n",
    "    ax.legend()"
   ]
  },
  {
   "cell_type": "code",
   "execution_count": null,
   "metadata": {},
   "outputs": [],
   "source": [
    "# AGES\n",
    "# the values of age corresponding to those points\n",
    "values = logt\n",
    "age_est = 10**(griddata(points, values, lumteffgrid, method= 'linear'))/1e6\n",
    "\n",
    "age_image = np.rot90(age_est)\n",
    "#if you want to plot high to low teff, then flip mass_image about axis 1\n",
    "age_image = np.flip(age_image, axis=1) \n",
    "    \n",
    "# Ages Plot\n",
    "fig, ax = plt.subplots()\n",
    "im = ax.imshow(age_image, origin='lower', aspect='auto', extent=[7000,4000,0.1,100])\n",
    "ax.set_xlabel(r'$T_{\\rm eff} \\,\\, [{\\rm K}]$', labelpad=10)\n",
    "ax.set_ylabel(r'${L_\\ast} \\,\\, [{\\rm L}_\\odot]$', labelpad=10)\n",
    "\n",
    "cb = plt.colorbar(im, ax=ax, pad = 0.05)\n",
    "cb.set_label('age [Myr]', rotation=270, labelpad=20)\n",
    "\n",
    "log_age = [np.log10(1e7), np.log10(2e7), np.log10(4e7), np.log10(8e7) ] #1Myr and 2Myr\n",
    "colors = ['C1', 'C2', 'C3', 'C4']\n",
    "\n",
    "Tlim = [7000, 4000]    # note: Teff is plotted backwards (see note below)\n",
    "Llim = [0.1, 100]\n",
    "\n",
    "for i in range(len(log_age)):\n",
    "    close_age = iso_AGE[np.abs(iso_AGE - log_age[i]).argmin()] #np.searchsorted(iso_AGE, i)] gives the idx+1\n",
    "    iso_L_Myr = iso_L[iso_AGE == close_age]\n",
    "    iso_T_Myr = iso_T[iso_AGE == close_age]\n",
    "    ax.plot(10**iso_T_Myr, 10**iso_L_Myr, ':'+colors[i], label= \"Iso %d Myr\" % (round(10**log_age[i])/1e6))\n",
    "    ax.set_xlim(Tlim)\n",
    "    ax.set_ylim(Llim)\n",
    "    ax.legend()\n"
   ]
  },
  {
   "cell_type": "code",
   "execution_count": null,
   "metadata": {},
   "outputs": [],
   "source": []
  }
 ],
 "metadata": {
  "kernelspec": {
   "display_name": "Python 3",
   "language": "python",
   "name": "python3"
  },
  "language_info": {
   "codemirror_mode": {
    "name": "ipython",
    "version": 3
   },
   "file_extension": ".py",
   "mimetype": "text/x-python",
   "name": "python",
   "nbconvert_exporter": "python",
   "pygments_lexer": "ipython3",
   "version": "3.6.8"
  }
 },
 "nbformat": 4,
 "nbformat_minor": 2
}
