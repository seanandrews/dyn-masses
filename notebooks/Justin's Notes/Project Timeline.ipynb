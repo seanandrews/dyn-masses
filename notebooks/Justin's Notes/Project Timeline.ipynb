{
 "cells": [
  {
   "cell_type": "markdown",
   "metadata": {},
   "source": [
    "## Project Timeline\n",
    "---\n",
    "* **Week 1:** Learning about HR Diagram\n",
    "   * Goal: familiarize with astropy/mass tracks/isochrones\n",
    "   * _Frustration with not knowing how to code correctly_\n",
    "* **Week 2:** Addendum of HR Diagram about interpolation, double-tracking problem  \n",
    "   * Goal: figure out how to segment the interpolation of luminosity and temperature to get mass and age  \n",
    "* **Week 3:** Playing around with griddata and arrays\n",
    "   * Goal: use `scipy.interpolate.griddata` to make a gridded HR diagram/image plot based on teff, lum, and mass/age\n",
    "* **Week 4:** Playing around with imshow and plots, new F16 model\n",
    "   * Goal: Make a HR diagram image plot, colormap and normalize it, and align the mass tracks and isochrones to it.\n",
    "       * Completed: (7/28) MIST colormaps are verified by mass tracks and isochrones  \n",
    "   * Goal: Do the same grid/plotting with new F16 model\n",
    "       * Completed: (7/30) F16 colormaps are verified only by mass tracks (working on isochrones)\n",
    "* **Week 5:** Probability Distribution Functions and SPOTS\n",
    "   * Goal: Make code that computes PDFs for MIST\n",
    "   * Goal: Make code that computes PDFs for SPOTS\n",
    "   * Goal: Compare PDFs of MIST and SPOTS\n",
    "       * Completed: (8/4) Made SPOTS Model mass/age plots, and rendered PDF for SPOTS\n",
    "* **Week 6:** Learning about cube data for protoplanetary disks\n",
    "    * Goal: Write code that converts surface brightness to brightness temperature\n",
    "        * Completed: (8/14) Wrote brighttemp.py, converted plot from surface brightness to brightness temperature\n",
    "        * _Frustration with converting janskys to cms units_\n",
    "    * Goal: Make 10x10 channel maps for different velocities of HD163296 disk\n",
    "        * Completed: (8/11) Channel maps\n",
    "* **Week 7:** Learning about different metrics for cube data\n",
    "    * Goal: Learn how to manipulate data for different types of plots:\n",
    "        * Completed: (8/17) Spectrum, Moment-0 map\n",
    "        * Completed: (8/18) Moment-1 map, got bettermoments working (checked moment-0 and moment-1)\n",
    "            * Note: Your moment-1 map differs by a factor of $1/dv$ compared to bettermoments\n",
    "        * _Frustration with moment maps_\n",
    "* **Week 8:** Fixing up moment maps and playing with Gofish\n",
    "    * Goal: Finish up last week moment maps\n",
    "        * Completed: (8/25) Checked moment-2 and moment-8 maps with bettermoments, got colormaps working correctly\n",
    "    * Goal: Replicate basics of gofish notebook for HD163296 disk\n",
    "* **Week 9:**\n",
    "    * Goal: Finish basics of gofish notebook for HD163296 disk\n",
    "        * Completed: (9/2) Gofish analysis on HD163296\n",
    "* **Week 10:**\n",
    "    * Goal: Learning `simple_disk.py` and playing with model\n",
    "* __Week 11:__ Fundamentals of Statistical Inferencing\n",
    "    * Goal: Learn how to use `emcee` and more about MCMC\n",
    "* __Week 12:__ Fake data run through `emcee` and interferometry primer\n",
    "    * Goal: Learn more about interferometry\n",
    "    * Clean up analysis script\n",
    "* __Week 13:__ Learn ins and outs of likelihood calculation"
   ]
  },
  {
   "cell_type": "code",
   "execution_count": null,
   "metadata": {},
   "outputs": [],
   "source": []
  }
 ],
 "metadata": {
  "kernelspec": {
   "display_name": "Python 3",
   "language": "python",
   "name": "python3"
  },
  "language_info": {
   "codemirror_mode": {
    "name": "ipython",
    "version": 3
   },
   "file_extension": ".py",
   "mimetype": "text/x-python",
   "name": "python",
   "nbconvert_exporter": "python",
   "pygments_lexer": "ipython3",
   "version": "3.6.10"
  }
 },
 "nbformat": 4,
 "nbformat_minor": 2
}
