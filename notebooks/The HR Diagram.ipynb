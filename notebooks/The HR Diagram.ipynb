{
 "cells": [
  {
   "cell_type": "markdown",
   "metadata": {},
   "source": [
    "# The HR (Hertzsprung-Russell) Diagram"
   ]
  },
  {
   "cell_type": "markdown",
   "metadata": {},
   "source": [
    "To establish some of the context for this project, the first task we'll work on is to have you explore and deploy some models of how the (atmospheric and structural) properties of young stars behave as they evolve.  \n",
    "\n",
    "In an ideal world, the theory of planetary origins would benefit from demographic studies that quantify how the properties of young stars and their protoplanetary disks (the material used to make planetary systems) are linked (or are not associated).  In the known population of exoplanets around more mature, *main-sequence*, stars (where H fusion dominates their energetics and structure; typically at ages of $t_\\ast \\approx 1$ Gyr (billion years), although it depends on the stellar mass, $M_\\ast$), we see some definitive connections.  For example, more massive (or *metal-rich*, with enhanced heavy element abundances) stars are more likely to host gas giant planets like Jupiter, but less massive stars tend to be orbited by a much higher fraction of less-massive planets (like Earth and Neptune).  There is also increasing evidence that more massive stars could have planets with longer orbital periods (or separations), although more data are needed to confirm this.  Are these $M_\\ast$-dependent properties of planetary systems relics of some *initial* connections to their ancestral disks?\n",
    "\n",
    "We do not yet know the answer to that question.  Part of the reason for that ignorance is that it is difficult to measure the properties of the *young* stars that host these planet-forming disks.  There are many complicating factors for these young stellar hosts that are not particularly relevant for their main-sequence counterparts, including uncertain reference sources, extinction, and initial conditions, as well as important additional physics like accretion, winds, and strong magnetic activity.  We are, of course, not going to solve all (or perhaps *any*) of these issues in this project.  However, we'll sort of side-step them and then look back to see what we can learn *about* them to help better inform theorists working on improving their evolutionary models.  Regardless, the first step is to become more familiar with some of the issues, and that's where we'll start here. "
   ]
  },
  {
   "cell_type": "markdown",
   "metadata": {},
   "source": [
    "**(1) A Model HRD**\n",
    "\n",
    "The HR diagram (and its variants) is the fundamental means of visualizing stellar evolution in astrophysics.  The standard version plots the *bolometric luminosity*, $L_\\ast$, as a function of the *effective temperature*, $T_{\\rm eff}$, of stars.  $L_\\ast$ is defined as the rate of energy emitted by the star, integrated over all frequencies (or wavelengths) of light.  Its CGS unit is erg / s, but it is typically considered in units of the Sun's luminosity, $L_\\odot = 3.828 \\times 10^{33}$ erg s$^{-1}$.  $T_{\\rm eff}$ is the temperature of a blackbody that would emit the same amount of radiation.  By definition, \n",
    "\n",
    "$L_\\ast = 4 \\, \\pi \\, \\sigma_{\\rm SB} \\, R_\\ast^2 \\, T_{\\rm eff}^4$,\n",
    "\n",
    "where $R_\\ast$ is the stellar radius (defined in a complicated way, but meaning what you're intuitively thinking), and $\\sigma_{\\rm SB} = 5.67 \\times 10^{-5}$ erg cm$^{-2}$ s$^{-1}$ K$^{-4}$ is the Stefan-Boltzmann constant.  The evolutionary behavior of a star in the HRD is predominantly dictated by its mass, $M_\\ast$.\n",
    "\n",
    "Stellar evolution models calculate how the physical structures and observable parameters of stars change over time as a function of $M_\\ast$.  I'm going to have you see for yourself how this works.  First, download some files that contain (in a terribly messy format, I'm afraid) the outcomes of various stellar evolutionary models (these are the so-called [${\\tt MIST}$ models](http://waps.cfa.harvard.edu/MIST/)):  "
   ]
  },
  {
   "cell_type": "code",
   "execution_count": 1,
   "metadata": {},
   "outputs": [],
   "source": [
    "import os, sys\n",
    "\n",
    "# make a working directory for yourself first!\n",
    "working_dir = '/Users/justinvega/Documents/GitHub/dyn-masses/notebooks/preMS_models/'\n",
    "if not os.path.isdir(working_dir):\n",
    "    os.mkdir(working_dir)\n",
    "    \n",
    "\n",
    "# retrieve the MIST models (if you don't already have them)\n",
    "#model_www = 'https://waps.cfa.harvard.edu/MIST/data/tarballs_v1.2/'\n",
    "filename_iso = 'MIST_v1.2_vvcrit0.4_full_isos'\n",
    "filename_eep = 'MIST_v1.2_feh_p0.00_afe_p0.0_vvcrit0.4_EEPS'\n",
    "#import urllib.request\n",
    "#if not os.path.isdir(working_dir+'MIST/'):\n",
    "    #os.mkdir(working_dir+'MIST/')\n",
    "#if not os.path.exists(working_dir+'MIST/'+filename_iso+'.txz'):\n",
    "    #print('Downloading isochrones...656 MB')\n",
    "    #urllib.request.urlretrieve(model_www+filename_iso+'.txz', working_dir+'MIST/'+filename_iso+'.txz')\n",
    "#if not os.path.exists(working_dir+'MIST/'+filename_eep+'.txz'):\n",
    "    #print('Downloading tracks...107 MB')\n",
    "    #urllib.request.urlretrieve(model_www+filename_eep+'.txz', working_dir+'MIST/'+filename_eep+'.txz')\n"
   ]
  },
  {
   "cell_type": "markdown",
   "metadata": {},
   "source": [
    "Given their sizes, this might take a while.  Depending on what type of OS you're using, the files may be automatically decompressed or not.  If they're not (i.e., you only see '.txz' files), then you can unpack them in an Unix-based system (including Mac OS X) with (remove the # before each line):"
   ]
  },
  {
   "cell_type": "code",
   "execution_count": 2,
   "metadata": {},
   "outputs": [],
   "source": [
    "#os.chdir(working_dir+'MIST/')\n",
    "#os.system('xz -d < '+filename_iso+' | tar xvf -')\n",
    "#os.system('xz -d < '+filename_eep+' | tar xvf -')\n",
    "#os.chdir('../../')"
   ]
  },
  {
   "cell_type": "markdown",
   "metadata": {},
   "source": [
    "This will also take a while (sorry!  We should only need to do this once...).\n",
    "\n",
    "Once the model files are all unpacked, we can make an example of how they'll work in an HRD.  First, let's extract the *mass track* for a star like the Sun, with $M_\\ast = 1 M_\\odot$.  The mass track is just a list of various parameters over time for a fixed mass.  We'll look at the behavior of the HRD as a function of time:"
   ]
  },
  {
   "cell_type": "code",
   "execution_count": 3,
   "metadata": {},
   "outputs": [
    {
     "data": {
      "text/plain": [
       "Text(0, 0.5, '$\\\\log{L_\\\\ast} \\\\,\\\\, [{\\\\rm L}_\\\\odot]$')"
      ]
     },
     "execution_count": 3,
     "metadata": {},
     "output_type": "execute_result"
    },
    {
     "data": {
      "image/png": "[encoded data removed]",
      "text/plain": [
       "<Figure size 432x288 with 1 Axes>"
      ]
     },
     "metadata": {
      "needs_background": "light"
     },
     "output_type": "display_data"
    }
   ],
   "source": [
    "import numpy as np\n",
    "import matplotlib.pyplot as plt\n",
    "from astropy.io import ascii\n",
    "%matplotlib inline\n",
    "\n",
    "# load the model track\n",
    "file_track_solar = working_dir+'MIST/'+filename_eep+'/00100M.track.eep'\n",
    "track_solar = ascii.read(file_track_solar)\n",
    "\n",
    "# extract the age (in years), log10(luminosity) (in Lsun), and log10(effective temperature) (in K)\n",
    "age, logL, logTe = track_solar['col1'], track_solar['col7'], track_solar['col12']\n",
    "\n",
    "# plot the model HRD\n",
    "Tlim = [200000, 2000]    # note: Teff is plotted backwards (see note below)\n",
    "Llim = [0.1, 10000]\n",
    "fig, ax = plt.subplots()\n",
    "ax.plot(10**logTe, 10**logL)\n",
    "ax.set_xlim(Tlim)\n",
    "ax.set_ylim(Llim)\n",
    "ax.set_xscale('log')\n",
    "ax.set_yscale('log')\n",
    "ax.set_xlabel(r'$\\log{T_{\\rm eff}} \\,\\, [{\\rm K}]$')\n",
    "ax.set_ylabel(r'$\\log{L_\\ast} \\,\\, [{\\rm L}_\\odot]$')"
   ]
  },
  {
   "cell_type": "markdown",
   "metadata": {},
   "source": [
    "A digression: Note that the $T_{\\rm eff}$ axis is plotted backwards (high to low from left to right).  That's a quirk of the HRD because of the analogous (pre-cursor) \"color-magnitude\" diagram, which is purely observational rather than theoretical.  In that case, the $T_{\\rm eff}$ axis is replaced by the \"color\" (a ratio between the emission strengths in two wavelength bands), which traditionally increased left to right (e.g., from 0.0 to 2.0).  \"Low\" color values correspond to *bluer* colors, higher to *redder* colors.  But blue corresponds to hotter temperatures, and vice versa...so you can see where the flip in the $T_{\\rm eff}$ axis arises.  \n",
    "\n",
    "There's an immense amount of physics encapsulated in the evolution of a Sun-like star in this HRD.  The star is \"born\" at the end of the curve in the middle right of the diagram.  At this point, the stellar envelope is inflated from its formation, and the whole star is convective as it contracts at roughly fixed $T_{\\rm eff}$.  This nearly vertical evolution from convective contraction is known as the Hayashi track.  After $\\sim$50 Myr, energy dissipation in the outer envelope of the star becomes dominated by radiation (rather than convection), and there is a pronounced \"J\"-shaped hook in the HRD.  By $\\sim$100 Myr, we have reached that little wiggle at the end of the J's hook, which marks the \"main-sequence\".  All of that previous evolution is known as the \"pre-main-sequence\" phase.  It will be the sole concern of your project, but I'll digress to give a quick overview of the additional evolution in the HRD.\n",
    "\n",
    "That little wiggle occurs around ($T_{\\rm eff} = 5800$ K, $L_\\ast = 1$ L$_\\odot$), which are (perhaps obviously) the current parameters of the Sun.  Most of the star's life stays fixed right there...the main-sequence phase lasts from about 100 Myr to about 9 Gyr.  At that point, most of the hydrogen in the star's core is spent from nuclear fusion into helium.  When the helium starts to fuse, there's a lot more energy at the core that needs to make its way out.  That causes the star to expand again, and move up in $L_\\ast$ dramatically.  This \"ascent\" in the HRD is known as the red giant branch.  It is relatively short-lived, and involves an oscillation in $L_\\ast$ as different fusion products are generated in the core (the 2nd ascent is called the \"asymptotic giant branch\").  Eventually the core fuses sufficiently more massive atomic constituents that the stellar envelope is effectively blown off in a wind, creating a \"planetary nebula\".  That process occurs along the (aptly named) \"horizontal branch\", where $T_{\\rm eff}$ increases at fixed $L_\\ast$ as the very hot core of the star is revealed, eventually leaving behind a \"white dwarf\" star that contracts and fades for the rest of time (left-hand side of plot).  \n",
    "\n",
    "Ok, let's focus on the pre-main-sequence (pre-MS) phase:"
   ]
  },
  {
   "cell_type": "code",
   "execution_count": 4,
   "metadata": {},
   "outputs": [
    {
     "data": {
      "text/plain": [
       "Text(0, 0.5, '$\\\\log{L_\\\\ast} \\\\,\\\\, [{\\\\rm L}_\\\\odot]$')"
      ]
     },
     "execution_count": 4,
     "metadata": {},
     "output_type": "execute_result"
    },
    {
     "data": {
      "image/png": "[encoded data removed]",
      "text/plain": [
       "<Figure size 432x288 with 1 Axes>"
      ]
     },
     "metadata": {
      "needs_background": "light"
     },
     "output_type": "display_data"
    }
   ],
   "source": [
    "Tlim = [6000, 4000]    # note: Teff is plotted backwards (see note below)\n",
    "Llim = [0.1, 100]\n",
    "fig, ax = plt.subplots()\n",
    "ax.plot(10**logTe[age < 1e8], 10**logL[age < 1e8])\n",
    "ax.set_xlim(Tlim)\n",
    "ax.set_ylim(Llim)\n",
    "ax.set_yscale('log')\n",
    "ax.set_xlabel(r'$\\log{T_{\\rm eff}} \\,\\, [{\\rm K}]$')\n",
    "ax.set_ylabel(r'$\\log{L_\\ast} \\,\\, [{\\rm L}_\\odot]$')"
   ]
  },
  {
   "cell_type": "markdown",
   "metadata": {},
   "source": [
    "It can help to also look at the evolution of the stellar radius, $R_\\ast$.  This (or rather $\\log{R_\\ast}$ in $R_\\odot = 6.96 \\times 10^{10}$ cm units) is available in 'track_solar['col8']'.  Make some plots to explore how $R_\\ast$ evolves with age, luminosity, and effective temperature for this model of a pre-MS sun-like star."
   ]
  },
  {
   "cell_type": "code",
   "execution_count": 5,
   "metadata": {},
   "outputs": [
    {
     "data": {
      "text/plain": [
       "Text(0, 0.5, 'age [Myr]')"
      ]
     },
     "execution_count": 5,
     "metadata": {},
     "output_type": "execute_result"
    },
    {
     "data": {
      "image/png": "[encoded data removed]",
      "text/plain": [
       "<Figure size 360x720 with 3 Axes>"
      ]
     },
     "metadata": {
      "needs_background": "light"
     },
     "output_type": "display_data"
    }
   ],
   "source": [
    "logr = track_solar['col8']\n",
    "Tlim = [6000, 4000]\n",
    "Llim = [0.1, 100]\n",
    "fig, (ax1, ax2, ax3) = plt.subplots(3, sharex=True, figsize=(5,10))\n",
    "#Luminosity as function of stellar radius \n",
    "ax1.plot(10**logr[age < 1e8], 10**logL[age < 1e8])\n",
    "ax1.set_ylabel(r'${L_\\ast} \\,\\, [{\\rm L}_\\odot]$')\n",
    "#ax1.set_yscale('log')\n",
    "#Temperature as function of stellar radius \n",
    "ax2.plot(10**logr[age < 1e8], 10**logTe[age < 1e8])\n",
    "ax2.set_ylabel(r'${T_{\\rm eff}} \\,\\, [{\\rm K}]$')\n",
    "#ax2.set_yscale('log')\n",
    "#Age as function of stellar radius \n",
    "ax3.plot(10**logr[age < 1e8], age[age < 1e8])\n",
    "ax3.set_xlabel(r'${R_\\ast} \\,\\, [R_\\odot]$')\n",
    "ax3.set_ylabel('age [Myr]')"
   ]
  },
  {
   "cell_type": "markdown",
   "metadata": {},
   "source": [
    "Now let's examine the $M_\\ast$-dependence of the HRD.  Generate a plot that shows the model tracks for $M_\\ast = [0.1, 0.2, 0.4, 0.6, 0.8, 1.0, 1.2, 1.4, 1.6, 1.8, 2.0]$ M$_\\odot$.  Investigate how $M_\\ast$ changes the behavior of models in the HRD as a function of stellar age (say from 1 to 100 Myr).  "
   ]
  },
  {
   "cell_type": "code",
   "execution_count": 6,
   "metadata": {},
   "outputs": [
    {
     "data": {
      "text/plain": [
       "Text(0, 0.5, '${M_\\\\ast} \\\\,\\\\, [{M_\\\\odot}]$')"
      ]
     },
     "execution_count": 6,
     "metadata": {},
     "output_type": "execute_result"
    },
    {
     "data": {
      "image/png": "[encoded data removed]",
      "text/plain": [
       "<Figure size 432x288 with 1 Axes>"
      ]
     },
     "metadata": {
      "needs_background": "light"
     },
     "output_type": "display_data"
    }
   ],
   "source": [
    "# Solar mass as a function of stellar age\n",
    "from astropy import constants as const\n",
    "mass = np.linspace(0, 2, len(age[age < 100e6]))\n",
    "fig, ax = plt.subplots()\n",
    "ax.plot(age[age < 100e6], mass)\n",
    "ax.set_xlabel('age [Myr]')\n",
    "ax.set_xscale('log')\n",
    "ax.set_ylabel(r'${M_\\ast} \\,\\, [{M_\\odot}]$')"
   ]
  },
  {
   "cell_type": "markdown",
   "metadata": {},
   "source": [
    "These evolutionary models usually also make available a different (although related and in some sense redundant) product, called *isochrones*.  An isochrone is the behavior of a model quantity at a fixed age (rather than a fixed mass, as for the mass tracks).  Let's load the ${\\tt MIST}$ isochrones:"
   ]
  },
  {
   "cell_type": "code",
   "execution_count": 7,
   "metadata": {
    "scrolled": true
   },
   "outputs": [
    {
     "name": "stdout",
     "output_type": "stream",
     "text": [
      "5.0\n",
      "5.05\n",
      "5.1\n",
      "5.15\n",
      "5.2\n",
      "5.25\n",
      "5.3\n",
      "5.35\n",
      "5.4\n",
      "5.45\n",
      "5.5\n",
      "5.55\n",
      "5.6\n",
      "5.65\n",
      "5.7\n",
      "5.75\n",
      "5.8\n",
      "5.8500000000000005\n",
      "5.9\n",
      "5.95\n",
      "6.0\n",
      "6.050000000000001\n",
      "6.1000000000000005\n",
      "6.15\n",
      "6.2\n",
      "6.25\n",
      "6.300000000000001\n",
      "6.3500000000000005\n",
      "6.4\n",
      "6.45\n",
      "6.5\n",
      "6.550000000000001\n",
      "6.6000000000000005\n",
      "6.65\n",
      "6.7\n",
      "6.75\n",
      "6.800000000000001\n",
      "6.8500000000000005\n",
      "6.9\n",
      "6.95\n",
      "7.0\n",
      "7.050000000000001\n",
      "7.1000000000000005\n",
      "7.15\n",
      "7.200000000000001\n",
      "7.25\n",
      "7.300000000000001\n",
      "7.3500000000000005\n",
      "7.4\n",
      "7.450000000000001\n",
      "7.5\n",
      "7.550000000000001\n",
      "7.6000000000000005\n",
      "7.65\n",
      "7.700000000000001\n",
      "7.75\n",
      "7.800000000000001\n",
      "7.8500000000000005\n",
      "7.9\n",
      "7.950000000000001\n",
      "8.0\n",
      "8.05\n",
      "8.100000000000001\n",
      "8.15\n",
      "8.200000000000001\n",
      "8.25\n",
      "8.3\n",
      "8.350000000000001\n",
      "8.4\n",
      "8.450000000000001\n",
      "8.5\n",
      "8.55\n",
      "8.600000000000001\n",
      "8.65\n",
      "8.700000000000001\n",
      "8.75\n",
      "8.8\n",
      "8.850000000000001\n",
      "8.9\n",
      "8.950000000000001\n",
      "9.0\n",
      "9.05\n",
      "9.100000000000001\n",
      "9.150000000000002\n",
      "9.200000000000001\n",
      "9.25\n",
      "9.3\n",
      "9.350000000000001\n",
      "9.400000000000002\n",
      "9.450000000000001\n",
      "9.5\n",
      "9.55\n",
      "9.600000000000001\n",
      "9.650000000000002\n",
      "9.700000000000001\n",
      "9.75\n",
      "9.8\n",
      "9.850000000000001\n",
      "9.900000000000002\n",
      "9.950000000000001\n",
      "10.0\n",
      "10.05\n",
      "10.100000000000001\n",
      "10.150000000000002\n",
      "10.200000000000001\n",
      "10.25\n",
      "10.3\n"
     ]
    }
   ],
   "source": [
    "# load MIST isochrones in HRD \n",
    "file_isos = working_dir+'MIST/'+filename_iso+'/MIST_v1.2_feh_p0.00_afe_p0.0_vvcrit0.4_full.iso'\n",
    "isos = ascii.read(file_isos)\n",
    "iso_AGE, iso_L, iso_T = isos['col2'], isos['col9'], isos['col14']\n",
    "\n",
    "# print the available isochrone ages: these are *log(age)* in yr units\n",
    "for i in range(len(np.unique(iso_AGE))): print(np.unique(iso_AGE)[i])"
   ]
  },
  {
   "cell_type": "markdown",
   "metadata": {},
   "source": [
    "Plot the HRD again, with the isochrones shown for fixed ages of 1, 2, 4, 8, 16, 32 Myr (or as near as possible to do those numbers).  It can be confusing, but ultimately helpful, to also show the mass tracks from before...you'll need to think about how to make this appear visually pleasing."
   ]
  },
  {
   "cell_type": "code",
   "execution_count": null,
   "metadata": {
    "scrolled": true
   },
   "outputs": [],
   "source": [
    "ages = ((10**iso_AGE)/1e7)\n",
    "twopow = 2.0**np.arange(6.0)\n",
    "lum = 10**iso_L\n",
    "teff = 10**iso_T\n",
    "fx_teff, fx_lum = [], []\n",
    "idx = []\n",
    "\n",
    "for i in twopow:\n",
    "    idx.append((np.abs(ages - i)).argmin())\n",
    "    \n",
    "for i in idx:\n",
    "    fx_teff.append(teff[i])\n",
    "    fx_lum.append(lum[i])\n",
    "\n",
    "fig, ax = plt.subplots()\n",
    "ax.plot(fx_teff, fx_lum)\n",
    "ax.set_xlabel(r'${T_{\\rm eff}} \\,\\, [{\\rm K}]$')\n",
    "ax.set_ylabel(r'${L_\\ast} \\,\\, [{\\rm L}_\\odot]$')"
   ]
  },
  {
   "cell_type": "markdown",
   "metadata": {},
   "source": [
    "The key takeaway, in a broad-brush sense, is that during the pre-MS phase of evolution, we are most sensitive to $M_\\ast$ using $T_{\\rm eff}$, and most sensitive to $t_\\ast$ using $L_\\ast$.  Effective temperatures increase with mass, and luminosities decrease with age.  \n",
    "\n",
    "Ok, so *in principle* we can use some of these pre-MS model predictions to infer \\{$M_\\ast$, $t_\\ast$\\} from measurements of {$T_{\\rm eff}$, $L_\\ast$\\}.  But in practice, that really doesn't work out.  One reason is that we often do not have *precise* measurements of {$T_{\\rm eff}$, $L_\\ast$\\}, and even when we think we do they could easily be *biased* by various systematic uncertainties (i.e., they're *inaccurate*).  Another reason is that the stellar evolution models themselves have various systematic uncertainties.  A big part of this project is ultimately to try and figure out which of these issues matter, and how much they contribute to uncertainties on the stellar host properties.  Let's flesh each of these out in a little more detail.    "
   ]
  },
  {
   "cell_type": "markdown",
   "metadata": {},
   "source": [
    "**Temperature and Luminosity _Systematics_**\n",
    "\n",
    "Astronomers do not really *directly* measure $T_{\\rm eff}$ or $L_\\ast$...these are not *observable* properties.  $T_{\\rm eff}$ is usually inferred from measurements of the patterns of absorption lines throughout the optical or near-infrared spectrum.  The temperature of the stellar atmosphere controls the abundances of various atomic, ionic, and even molecular species present there, and thereby which quantum transitions are available to absorb the radiation coming through the atmosphere layer.  Broadly speaking, there are four (related) techniques used to infer $T_{\\rm eff}$ from a spectrum: (1) spectral typing; (2) line indices; (3) forward-modeling; and (4) machine learning.  These are sort of  in the order of most-to-least common, and least-to-most sophisticated/challenging.  \n",
    "\n",
    "(1) Spectral typing is the traditional methodology.  This is essentially comparing the spectrum to a *template* star, with a \"known\" *spectral type*, to look for clear patterns in the presence and strengths of various absorption lines.  Those templates have either been modeled in detail, or their physical properties have been *benchmarked* by another methodology (more on this later).  The spectral classification system assigns a letter, a number, and a roman numeral.  The letter refers to the pattern in the absorption lines that is associated with $T_{\\rm eff}$.  Options are O, B, A, F, G, K, M, L, T, Y (for odd historical reasons), from high-to-low $T_{\\rm eff}$.  The numbers are subdivisions in each type.  The roman numerals are the \"luminosity class\" and refer to absorption line features that are sensitive to the *surface gravity*, $\\log{g}$, where $g = G M_\\ast / R_\\ast^2$; larger values mean higher $\\log{g}$.  For example, the Sun is a G2V star: G stars have $T_{\\rm eff} \\approx 5000$-6000 K, the 2 puts $T_{\\rm eff}$ toward the higher end of that range ($\\sim$5700-5800 K), and the V refers to a main-sequence surface gravity.  Eventually, the Sun will become a red giant star with luminosity class III, as it's atmosphere expands when it leaves the main-sequence.  If you look at the pre-MS part of the HRD, it is not too different from the giant branch.  The typical surface gravities of pre-MS stars would put them in a luminosity class IV, basically a mixture of giant (III) and main-sequence (V).  That is one of the challenges of \"typing\" a young star...there are no luminosity class IV template stars to use for guidance!\n",
    "\n",
    "In this technique, the spectral type is the observable quantity.  One then associates that spectral type with $T_{\\rm eff}$ with a look-up table.  The plot below shows a typical such table in common usage.  It was compiled based on main-sequence stars, though (more on that below)."
   ]
  },
  {
   "cell_type": "code",
   "execution_count": 9,
   "metadata": {},
   "outputs": [
    {
     "data": {
      "text/plain": [
       "Text(0, 0.5, '$T_{\\\\rm eff} \\\\,\\\\, [{\\\\rm K}]$')"
      ]
     },
     "execution_count": 9,
     "metadata": {},
     "output_type": "execute_result"
    },
    {
     "data": {
      "image/png": "[encoded data removed]",
      "text/plain": [
       "<Figure size 432x288 with 1 Axes>"
      ]
     },
     "metadata": {
      "needs_background": "light"
     },
     "output_type": "display_data"
    }
   ],
   "source": [
    "conv = ascii.read('data/KH95_dwarf_spt-teff.dat')\n",
    "spt, spt_idx, teff = conv['col1'], conv['col2'], conv['col3']\n",
    "\n",
    "fig, ax = plt.subplots()\n",
    "ax.plot(spt_idx, teff)\n",
    "ax.set_xlim([28, 68])\n",
    "ax.set_xticklabels(spt[np.in1d(spt_idx, ax.get_xticks())])\n",
    "ax.set_xlabel('spectral type')\n",
    "ax.set_ylim([2500, 8000])\n",
    "ax.set_ylabel(r'$T_{\\rm eff} \\,\\, [{\\rm K}]$')"
   ]
  },
  {
   "cell_type": "markdown",
   "metadata": {},
   "source": [
    "Usually, the classification uncertainty is roughly $\\pm$1 sub-type -- so we would say a star has a spectral type K4$\\pm$1, meaning K3 or K5 are possible (with less probability).  Write some code to determine the effective temperature and uncertainty in this case, based on the above lookup table.  (Note that some have recently argued that they can classify M stars within $\\pm$0.25 sub-types.)  Hang on to this, we'll come back to it later.        "
   ]
  },
  {
   "cell_type": "code",
   "execution_count": 10,
   "metadata": {},
   "outputs": [
    {
     "name": "stdout",
     "output_type": "stream",
     "text": [
      "Spectral type: B0 \n",
      " Temperature: 30000 K \n",
      " +: 0 K \n",
      " -: 4600 K \n",
      " \n",
      "\n",
      "Spectral type: B1 \n",
      " Temperature: 25400 K \n",
      " +: 4600 K \n",
      " -: 3400 K \n",
      " \n",
      "\n",
      "Spectral type: B2 \n",
      " Temperature: 22000 K \n",
      " +: 3400 K \n",
      " -: 3300 K \n",
      " \n",
      "\n",
      "Spectral type: B3 \n",
      " Temperature: 18700 K \n",
      " +: 3300 K \n",
      " -: 1700 K \n",
      " \n",
      "\n",
      "Spectral type: B4 \n",
      " Temperature: 17000 K \n",
      " +: 1700 K \n",
      " -: 1600 K \n",
      " \n",
      "\n",
      "Spectral type: B5 \n",
      " Temperature: 15400 K \n",
      " +: 1600 K \n",
      " -: 1400 K \n",
      " \n",
      "\n",
      "Spectral type: B6 \n",
      " Temperature: 14000 K \n",
      " +: 1400 K \n",
      " -: 1000 K \n",
      " \n",
      "\n",
      "Spectral type: B7 \n",
      " Temperature: 13000 K \n",
      " +: 1000 K \n",
      " -: 1100 K \n",
      " \n",
      "\n",
      "Spectral type: B8 \n",
      " Temperature: 11900 K \n",
      " +: 1100 K \n",
      " -: 1400 K \n",
      " \n",
      "\n",
      "Spectral type: B9 \n",
      " Temperature: 10500 K \n",
      " +: 1400 K \n",
      " -: 980 K \n",
      " \n",
      "\n",
      "Spectral type: A0 \n",
      " Temperature: 9520 K \n",
      " +: 980 K \n",
      " -: 290 K \n",
      " \n",
      "\n",
      "Spectral type: A1 \n",
      " Temperature: 9230 K \n",
      " +: 290 K \n",
      " -: 260 K \n",
      " \n",
      "\n",
      "Spectral type: A2 \n",
      " Temperature: 8970 K \n",
      " +: 260 K \n",
      " -: 250 K \n",
      " \n",
      "\n",
      "Spectral type: A3 \n",
      " Temperature: 8720 K \n",
      " +: 250 K \n",
      " -: 260 K \n",
      " \n",
      "\n",
      "Spectral type: A4 \n",
      " Temperature: 8460 K \n",
      " +: 260 K \n",
      " -: 260 K \n",
      " \n",
      "\n",
      "Spectral type: A5 \n",
      " Temperature: 8200 K \n",
      " +: 260 K \n",
      " -: 0 K \n",
      " \n",
      "\n",
      "Spectral type: A6 \n",
      " Temperature: 8350 K \n",
      " +: 0 K \n",
      " -: 500 K \n",
      " \n",
      "\n",
      "Spectral type: A7 \n",
      " Temperature: 7850 K \n",
      " +: 500 K \n",
      " -: 270 K \n",
      " \n",
      "\n",
      "Spectral type: A8 \n",
      " Temperature: 7580 K \n",
      " +: 270 K \n",
      " -: 190 K \n",
      " \n",
      "\n",
      "Spectral type: A9 \n",
      " Temperature: 7390 K \n",
      " +: 190 K \n",
      " -: 190 K \n",
      " \n",
      "\n",
      "Spectral type: F0 \n",
      " Temperature: 7200 K \n",
      " +: 190 K \n",
      " -: 150 K \n",
      " \n",
      "\n",
      "Spectral type: F1 \n",
      " Temperature: 7050 K \n",
      " +: 150 K \n",
      " -: 160 K \n",
      " \n",
      "\n",
      "Spectral type: F2 \n",
      " Temperature: 6890 K \n",
      " +: 160 K \n",
      " -: 150 K \n",
      " \n",
      "\n",
      "Spectral type: F3 \n",
      " Temperature: 6740 K \n",
      " +: 150 K \n",
      " -: 150 K \n",
      " \n",
      "\n",
      "Spectral type: F4 \n",
      " Temperature: 6590 K \n",
      " +: 150 K \n",
      " -: 150 K \n",
      " \n",
      "\n",
      "Spectral type: F5 \n",
      " Temperature: 6440 K \n",
      " +: 150 K \n",
      " -: 80 K \n",
      " \n",
      "\n",
      "Spectral type: F6 \n",
      " Temperature: 6360 K \n",
      " +: 80 K \n",
      " -: 80 K \n",
      " \n",
      "\n",
      "Spectral type: F7 \n",
      " Temperature: 6280 K \n",
      " +: 80 K \n",
      " -: 80 K \n",
      " \n",
      "\n",
      "Spectral type: F8 \n",
      " Temperature: 6200 K \n",
      " +: 80 K \n",
      " -: 85 K \n",
      " \n",
      "\n",
      "Spectral type: F9 \n",
      " Temperature: 6115 K \n",
      " +: 85 K \n",
      " -: 85 K \n",
      " \n",
      "\n",
      "Spectral type: G0 \n",
      " Temperature: 6030 K \n",
      " +: 85 K \n",
      " -: 85 K \n",
      " \n",
      "\n",
      "Spectral type: G1 \n",
      " Temperature: 5945 K \n",
      " +: 85 K \n",
      " -: 85 K \n",
      " \n",
      "\n",
      "Spectral type: G2 \n",
      " Temperature: 5860 K \n",
      " +: 85 K \n",
      " -: 30 K \n",
      " \n",
      "\n",
      "Spectral type: G3 \n",
      " Temperature: 5830 K \n",
      " +: 30 K \n",
      " -: 30 K \n",
      " \n",
      "\n",
      "Spectral type: G4 \n",
      " Temperature: 5800 K \n",
      " +: 30 K \n",
      " -: 30 K \n",
      " \n",
      "\n",
      "Spectral type: G5 \n",
      " Temperature: 5770 K \n",
      " +: 30 K \n",
      " -: 70 K \n",
      " \n",
      "\n",
      "Spectral type: G6 \n",
      " Temperature: 5700 K \n",
      " +: 70 K \n",
      " -: 70 K \n",
      " \n",
      "\n",
      "Spectral type: G7 \n",
      " Temperature: 5630 K \n",
      " +: 70 K \n",
      " -: 110 K \n",
      " \n",
      "\n",
      "Spectral type: G8 \n",
      " Temperature: 5520 K \n",
      " +: 110 K \n",
      " -: 110 K \n",
      " \n",
      "\n",
      "Spectral type: G9 \n",
      " Temperature: 5410 K \n",
      " +: 110 K \n",
      " -: 160 K \n",
      " \n",
      "\n",
      "Spectral type: K0 \n",
      " Temperature: 5250 K \n",
      " +: 160 K \n",
      " -: 170 K \n",
      " \n",
      "\n",
      "Spectral type: K1 \n",
      " Temperature: 5080 K \n",
      " +: 170 K \n",
      " -: 180 K \n",
      " \n",
      "\n",
      "Spectral type: K2 \n",
      " Temperature: 4900 K \n",
      " +: 180 K \n",
      " -: 170 K \n",
      " \n",
      "\n",
      "Spectral type: K3 \n",
      " Temperature: 4730 K \n",
      " +: 170 K \n",
      " -: 140 K \n",
      " \n",
      "\n",
      "Spectral type: K4 \n",
      " Temperature: 4590 K \n",
      " +: 140 K \n",
      " -: 240 K \n",
      " \n",
      "\n",
      "Spectral type: K5 \n",
      " Temperature: 4350 K \n",
      " +: 240 K \n",
      " -: 145 K \n",
      " \n",
      "\n",
      "Spectral type: K6 \n",
      " Temperature: 4205 K \n",
      " +: 145 K \n",
      " -: 145 K \n",
      " \n",
      "\n",
      "Spectral type: K7 \n",
      " Temperature: 4060 K \n",
      " +: 145 K \n",
      " -: 210 K \n",
      " \n",
      "\n",
      "Spectral type: M0 \n",
      " Temperature: 3850 K \n",
      " +: 210 K \n",
      " -: 130 K \n",
      " \n",
      "\n",
      "Spectral type: M1 \n",
      " Temperature: 3720 K \n",
      " +: 130 K \n",
      " -: 140 K \n",
      " \n",
      "\n",
      "Spectral type: M2 \n",
      " Temperature: 3580 K \n",
      " +: 140 K \n",
      " -: 110 K \n",
      " \n",
      "\n",
      "Spectral type: M3 \n",
      " Temperature: 3470 K \n",
      " +: 110 K \n",
      " -: 100 K \n",
      " \n",
      "\n",
      "Spectral type: M4 \n",
      " Temperature: 3370 K \n",
      " +: 100 K \n",
      " -: 130 K \n",
      " \n",
      "\n",
      "Spectral type: M5 \n",
      " Temperature: 3240 K \n",
      " +: 130 K \n",
      " -: 190 K \n",
      " \n",
      "\n",
      "Spectral type: M6 \n",
      " Temperature: 3050 K \n",
      " +: 190 K \n",
      " -: 0 K \n",
      " \n",
      "\n"
     ]
    }
   ],
   "source": [
    "#All isochrone data\n",
    "#conv.pprint(max_lines=-1, max_width=-1)\n",
    "\n",
    "spt_newidx = []\n",
    "upper = []\n",
    "lower = []\n",
    "\n",
    "for i in spt_idx: #normalizing spt_idx to start at 0\n",
    "    if i >= 60:\n",
    "        spt_newidx.append(i-12)\n",
    "    else:\n",
    "        spt_newidx.append(i-10)\n",
    "        \n",
    "for i in spt_newidx:\n",
    "    try:\n",
    "        if (teff[i-1]-teff[int(i)]) > 0: #upper bound needs to be positive\n",
    "            upper.append(teff[i-1]-teff[int(i)])\n",
    "        else: #faulty negative values\n",
    "            upper.append(0)\n",
    "    except: #cannot calculate upper bound (first and last elements)\n",
    "        upper.append(0)\n",
    "    try: \n",
    "        if (teff[i]-teff[i+1]) > 0: #same as above\n",
    "            lower.append(teff[i]-teff[i+1])\n",
    "        else:\n",
    "            lower.append(0)\n",
    "    except:\n",
    "        lower.append(0)\n",
    "        \n",
    "for i in spt_newidx: #printing out results\n",
    "    print('Spectral type: %s \\n Temperature: %s K \\n +: %s K \\n -: %s K \\n \\n' % (spt[i], teff[i], upper[i], lower[i]))"
   ]
  },
  {
   "cell_type": "markdown",
   "metadata": {},
   "source": [
    "So, you've just made some estimate of the *precision* with which this method (and indeed essentially all the methods) can infer $T_{\\rm eff}$.  But it relies on a conversion between an *observable* (spectral type, in this case) and a *physical* property ($T_{\\rm eff}$).  Is that conversion accurate?  We must presume the conversion itself has its own precision, and possibly biases.  One way to look at that is to compare various attempts at this conversion!"
   ]
  },
  {
   "cell_type": "code",
   "execution_count": 11,
   "metadata": {},
   "outputs": [
    {
     "data": {
      "text/plain": [
       "Text(0, 0.5, '$T_{\\\\rm eff} \\\\,\\\\, [{\\\\rm K}]$')"
      ]
     },
     "execution_count": 11,
     "metadata": {},
     "output_type": "execute_result"
    },
    {
     "data": {
      "image/png": "[encoded data removed]",
      "text/plain": [
       "<Figure size 432x288 with 1 Axes>"
      ]
     },
     "metadata": {
      "needs_background": "light"
     },
     "output_type": "display_data"
    }
   ],
   "source": [
    "fig, ax = plt.subplots()\n",
    "\n",
    "convs = ['vB99_giant', 'PM13_dwarf', 'PM13_pms', 'HH14_pms', 'KH95_dwarf']\n",
    "colors = ['C1', 'C2', 'C3', 'C4', 'C0']\n",
    "\n",
    "for i in range(len(convs)):\n",
    "    conv = ascii.read('data/'+convs[i]+'_spt-teff.dat')\n",
    "    spt, spt_idx, teff = conv['col1'], conv['col2'], conv['col3']\n",
    "    \n",
    "    ax.plot(spt_idx, teff, '-'+colors[i], lw=2)\n",
    "    \n",
    "ax.set_xlim([28, 68])\n",
    "ax.set_xticklabels(spt[np.in1d(spt_idx, ax.get_xticks())])\n",
    "ax.set_xlabel('spectral type')\n",
    "ax.set_ylim([2500, 8000])\n",
    "ax.set_ylabel(r'$T_{\\rm eff} \\,\\, [{\\rm K}]$')"
   ]
  },
  {
   "cell_type": "markdown",
   "metadata": {},
   "source": [
    "So, what *systematic* uncertainty in $T_{\\rm eff}$ would you ascribe to a K4 star, given the range of these predicted models?  "
   ]
  },
  {
   "cell_type": "code",
   "execution_count": 14,
   "metadata": {},
   "outputs": [
    {
     "name": "stdout",
     "output_type": "stream",
     "text": [
      "Spectral type: K4 \n",
      " Temperature: 4590 K \n",
      " +: 30 K \n",
      " -: 458 K \n",
      " \n",
      "\n",
      "K4 $T_{eff}$ vaules:\n",
      "[4132, 4620, 4330, 4210, 4590]\n"
     ]
    }
   ],
   "source": [
    "teff_predict = [] #predictions of t_eff\n",
    "target = 0 #will store KH95_dwarf t_eff as a target\n",
    "\n",
    "for i in range(len(convs)):\n",
    "    conv = ascii.read('data/'+convs[i]+'_spt-teff.dat')\n",
    "    spt, spt_idx, teff = conv['col1'], conv['col2'], conv['col3']\n",
    "    kfour_idx = np.searchsorted(spt, 'K4') #finds the index of K4\n",
    "    teff_predict.append(teff[kfour_idx])\n",
    "    if i == (len(convs)-1):\n",
    "        target = teff[kfour_idx] #stores KH95_dwarf t_eff as a target\n",
    "\n",
    "max_teff = np.amax(teff_predict)\n",
    "min_teff = np.amin(teff_predict)\n",
    "upper = max_teff - target\n",
    "lower = target - min_teff\n",
    "        \n",
    "print('Spectral type: %s \\n Temperature: %s K \\n +: %s K \\n -: %s K \\n \\n' % ('K4', target, upper, lower))\n",
    "print(r'K4 $T_{eff}$ vaules:')\n",
    "print(teff_predict)"
   ]
  },
  {
   "cell_type": "code",
   "execution_count": null,
   "metadata": {},
   "outputs": [],
   "source": []
  }
 ],
 "metadata": {
  "kernelspec": {
   "display_name": "Python 3",
   "language": "python",
   "name": "python3"
  },
  "language_info": {
   "codemirror_mode": {
    "name": "ipython",
    "version": 3
   },
   "file_extension": ".py",
   "mimetype": "text/x-python",
   "name": "python",
   "nbconvert_exporter": "python",
   "pygments_lexer": "ipython3",
   "version": "3.6.8"
  }
 },
 "nbformat": 4,
 "nbformat_minor": 2
}
